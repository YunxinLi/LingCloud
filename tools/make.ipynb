{
 "cells": [
  {
   "cell_type": "code",
   "execution_count": 1,
   "metadata": {},
   "outputs": [
    {
     "name": "stdout",
     "output_type": "stream",
     "text": [
      "[{'image_path': 'Datasets/OCR-VQA/images/618127453.jpg', 'question': 'Is this a fitness book?', 'answer': 'Yes'}, {'image_path': 'Datasets/OCR-VQA/images/615840035.jpg', 'question': 'Is this a digital technology book?', 'answer': 'Yes'}, {'image_path': 'Datasets/OCR-VQA/images/1554566606.jpg', 'question': 'Is this a journey related book?', 'answer': 'No'}, {'image_path': 'Datasets/OCR-VQA/images/037377933X.jpg', 'question': 'Is this book related to Romance?', 'answer': 'Yes'}, {'image_path': 'Datasets/OCR-VQA/images/802441572.jpg', 'question': 'What is the title of this book?', 'answer': 'An Introduction to the Old Testament Poetic Books'}]\n",
      "['OCR-VQA/', 'OCR-VQA/dataset.json', 'OCR-VQA/images/', 'OCR-VQA/images/1118132718.jpg', 'OCR-VQA/images/1514343185.jpg', 'OCR-VQA/images/140447806.jpg', 'OCR-VQA/images/1416296360.jpg', 'OCR-VQA/images/140565485.jpg', 'OCR-VQA/images/080184455X.jpg', 'OCR-VQA/images/321967674.jpg']\n"
     ]
    }
   ],
   "source": [
    "import os\n",
    "import json\n",
    "\n",
    "json_root_path = \"/root/data/mutimodel_dataset/json/OCR_VQA.json\"\n",
    "# OCR_VQA.json  OCR-VQA.zip\n",
    "\n",
    "with open(os.path.join(json_root_path), \"r\") as f:\n",
    "    file_content = f.read()\n",
    "json_data = json.loads(file_content)\n",
    "print(json_data[:5])\n",
    "\n",
    "import zipfile\n",
    "\n",
    "def list_files_in_zip(zip_file_path):\n",
    "    with zipfile.ZipFile(zip_file_path, 'r') as zip_file:\n",
    "        file_list = zip_file.namelist()\n",
    "    return file_list\n",
    "\n",
    "# 调用示例\n",
    "zip_file_path = '/root/data/mutimodel_dataset/image/OCR-VQA.zip'  # 替换为你的压缩包路径\n",
    "files_in_zip = list_files_in_zip(zip_file_path)\n",
    "print(files_in_zip[:10])"
   ]
  },
  {
   "cell_type": "code",
   "execution_count": 5,
   "metadata": {},
   "outputs": [
    {
     "name": "stderr",
     "output_type": "stream",
     "text": [
      "  0%|          | 0/1002126 [00:00<?, ?it/s]"
     ]
    },
    {
     "name": "stderr",
     "output_type": "stream",
     "text": [
      "100%|██████████| 1002126/1002126 [00:00<00:00, 1768290.45it/s]\n"
     ]
    }
   ],
   "source": [
    "from tqdm import tqdm\n",
    "for data in tqdm(json_data):\n",
    "    data['image_path'] = data['image_path'].replace('Datasets/', '')"
   ]
  },
  {
   "cell_type": "code",
   "execution_count": 12,
   "metadata": {},
   "outputs": [],
   "source": [
    "import json\n",
    "\n",
    "with open(\"/root/data/mutimodel_dataset/data_split/OCR-VQA/json/data.json\", \"w\") as f:\n",
    "    f.write(json.dumps(json_data))"
   ]
  },
  {
   "cell_type": "code",
   "execution_count": 6,
   "metadata": {},
   "outputs": [
    {
     "name": "stderr",
     "output_type": "stream",
     "text": [
      "100%|██████████| 10000/10000 [00:17<00:00, 579.13it/s]"
     ]
    },
    {
     "name": "stdout",
     "output_type": "stream",
     "text": [
      "0\n"
     ]
    },
    {
     "name": "stderr",
     "output_type": "stream",
     "text": [
      "\n"
     ]
    }
   ],
   "source": [
    "import json\n",
    "import os\n",
    "from tqdm import tqdm\n",
    "\n",
    "json_root_path = \"/root/data/mutimodel_dataset/data_split/OCR-VQA/json/data.json\"\n",
    "# OCR_VQA.json  OCR-VQA.zip\n",
    "import zipfile\n",
    "\n",
    "def list_files_in_zip(zip_file_path):\n",
    "    with zipfile.ZipFile(zip_file_path, 'r') as zip_file:\n",
    "        file_list = zip_file.namelist()\n",
    "    return file_list\n",
    "\n",
    "with open(os.path.join(json_root_path), \"r\") as f:\n",
    "    file_content = f.read()\n",
    "json_data = json.loads(file_content)\n",
    "\n",
    "image_root_path = \"/root/data/mutimodel_dataset/data_split/OCR-VQA/image\"\n",
    "chunk_list = os.listdir(image_root_path)\n",
    "chunk_file_dict = {}\n",
    "for chunk_name in chunk_list:\n",
    "    chunk_path = os.path.join(image_root_path, chunk_name)\n",
    "    chunk_file_dict[chunk_name] = list_files_in_zip(chunk_path)\n"
   ]
  },
  {
   "cell_type": "code",
   "execution_count": 9,
   "metadata": {},
   "outputs": [
    {
     "name": "stderr",
     "output_type": "stream",
     "text": [
      "  0%|          | 0/1002126 [00:00<?, ?it/s]"
     ]
    },
    {
     "name": "stderr",
     "output_type": "stream",
     "text": [
      "100%|██████████| 1002126/1002126 [28:18<00:00, 590.06it/s]"
     ]
    },
    {
     "name": "stdout",
     "output_type": "stream",
     "text": [
      "0\n"
     ]
    },
    {
     "name": "stderr",
     "output_type": "stream",
     "text": [
      "\n"
     ]
    }
   ],
   "source": [
    "number = 0\n",
    "for data in tqdm(json_data):\n",
    "    if 'chunk_belong' in data and data['chunk_belong'] != '': continue\n",
    "    image_path = data['image_path']\n",
    "    for chunk_name in chunk_file_dict:\n",
    "        if image_path in chunk_file_dict[chunk_name]:\n",
    "            data['chunk_belong'] = chunk_name\n",
    "            break\n",
    "    if 'chunk_belong' in data and data['chunk_belong'] != '': continue\n",
    "    data['chunk_belong'] = ''\n",
    "    number += 1\n",
    "print(number)"
   ]
  },
  {
   "cell_type": "code",
   "execution_count": 10,
   "metadata": {},
   "outputs": [
    {
     "name": "stdout",
     "output_type": "stream",
     "text": [
      "[{'image_path': 'OCR-VQA/images/618127453.jpg', 'question': 'Is this a fitness book?', 'answer': 'Yes', 'chunk_belong': 'chunk2.zip'}, {'image_path': 'OCR-VQA/images/615840035.jpg', 'question': 'Is this a digital technology book?', 'answer': 'Yes', 'chunk_belong': 'chunk3.zip'}, {'image_path': 'OCR-VQA/images/1554566606.jpg', 'question': 'Is this a journey related book?', 'answer': 'No', 'chunk_belong': 'chunk2.zip'}, {'image_path': 'OCR-VQA/images/037377933X.jpg', 'question': 'Is this book related to Romance?', 'answer': 'Yes', 'chunk_belong': 'chunk3.zip'}, {'image_path': 'OCR-VQA/images/802441572.jpg', 'question': 'What is the title of this book?', 'answer': 'An Introduction to the Old Testament Poetic Books', 'chunk_belong': 'chunk2.zip'}, {'image_path': 'OCR-VQA/images/2952104808.jpg', 'question': 'What is the title of this book?', 'answer': 'Dakar City Map', 'chunk_belong': 'chunk3.zip'}, {'image_path': 'OCR-VQA/images/1933435100.jpg', 'question': 'Is this book related to Politics & Social Sciences?', 'answer': 'Yes', 'chunk_belong': 'chunk2.zip'}, {'image_path': 'OCR-VQA/images/075828389X.jpg', 'question': 'What type of book is this?', 'answer': 'Literature & Fiction', 'chunk_belong': 'chunk2.zip'}, {'image_path': 'OCR-VQA/images/1783060395.jpg', 'question': 'What is the title of this book?', 'answer': \"Sabah-Taged (Brian's World)\", 'chunk_belong': 'chunk1.zip'}, {'image_path': 'OCR-VQA/images/061559722X.jpg', 'question': 'What type of book is this?', 'answer': \"Children's Books\", 'chunk_belong': 'chunk2.zip'}, {'image_path': 'OCR-VQA/images/990370313.jpg', 'question': 'Is this book related to Sports & Outdoors?', 'answer': 'Yes', 'chunk_belong': 'chunk1.zip'}, {'image_path': 'OCR-VQA/images/157322751X.jpg', 'question': 'What is the genre of this book?', 'answer': 'Literature & Fiction', 'chunk_belong': 'chunk1.zip'}, {'image_path': 'OCR-VQA/images/1492269042.jpg', 'question': 'Is this book related to Cookbooks, Food & Wine?', 'answer': 'No', 'chunk_belong': 'chunk1.zip'}, {'image_path': 'OCR-VQA/images/1284033600.jpg', 'question': 'Who is the author of this book?', 'answer': 'Catherine Mullahy', 'chunk_belong': 'chunk2.zip'}, {'image_path': 'OCR-VQA/images/843180714.jpg', 'question': 'Is this book related to Religion & Spirituality?', 'answer': 'No', 'chunk_belong': 'chunk2.zip'}, {'image_path': 'OCR-VQA/images/1557255121.jpg', 'question': 'Is this book related to Cookbooks, Food & Wine?', 'answer': 'No', 'chunk_belong': 'chunk2.zip'}, {'image_path': 'OCR-VQA/images/1627223517.jpg', 'question': 'What type of book is this?', 'answer': 'Business & Money', 'chunk_belong': 'chunk2.zip'}, {'image_path': 'OCR-VQA/images/080103471X.jpg', 'question': 'Is this book related to Christian Books & Bibles?', 'answer': 'Yes', 'chunk_belong': 'chunk3.zip'}, {'image_path': 'OCR-VQA/images/516200690.jpg', 'question': 'What is the genre of this book?', 'answer': \"Children's Books\", 'chunk_belong': 'chunk2.zip'}, {'image_path': 'OCR-VQA/images/1554074185.jpg', 'question': 'Who wrote this book?', 'answer': 'Maggy Howarth', 'chunk_belong': 'chunk1.zip'}, {'image_path': 'OCR-VQA/images/307719774.jpg', 'question': 'What type of book is this?', 'answer': 'Self-Help', 'chunk_belong': 'chunk2.zip'}, {'image_path': 'OCR-VQA/images/789322528.jpg', 'question': 'Is this a reference book?', 'answer': 'No', 'chunk_belong': 'chunk3.zip'}, {'image_path': 'OCR-VQA/images/162649309X.jpg', 'question': 'What is the title of this book?', 'answer': 'Base Instincts', 'chunk_belong': 'chunk2.zip'}, {'image_path': 'OCR-VQA/images/471970123.jpg', 'question': 'Who wrote this book?', 'answer': 'CIBA Foundation Symposium', 'chunk_belong': 'chunk1.zip'}, {'image_path': 'OCR-VQA/images/375759484.jpg', 'question': 'Is this book related to Crafts, Hobbies & Home?', 'answer': 'Yes', 'chunk_belong': 'chunk2.zip'}, {'image_path': 'OCR-VQA/images/140268456.jpg', 'question': 'What is the title of this book?', 'answer': 'Buzz: The Science and Lore of Alcohol and Caffeine', 'chunk_belong': 'chunk2.zip'}, {'image_path': 'OCR-VQA/images/B00147OVFS.jpg', 'question': 'Who is the author of this book?', 'answer': 'Henry C. Lu', 'chunk_belong': 'chunk2.zip'}, {'image_path': 'OCR-VQA/images/048624847X.jpg', 'question': 'Who wrote this book?', 'answer': 'Karl Fulves', 'chunk_belong': 'chunk1.zip'}, {'image_path': 'OCR-VQA/images/807530786.jpg', 'question': 'Is this book related to Test Preparation?', 'answer': 'No', 'chunk_belong': 'chunk2.zip'}, {'image_path': 'OCR-VQA/images/765354705.jpg', 'question': 'Who is the author of this book?', 'answer': 'Eric Nylund', 'chunk_belong': 'chunk1.zip'}, {'image_path': 'OCR-VQA/images/807027197.jpg', 'question': 'Is this book related to Politics & Social Sciences?', 'answer': 'Yes', 'chunk_belong': 'chunk2.zip'}, {'image_path': 'OCR-VQA/images/1855218437.jpg', 'question': 'What is the genre of this book?', 'answer': 'Law', 'chunk_belong': 'chunk1.zip'}, {'image_path': 'OCR-VQA/images/081221630X.jpg', 'question': 'What is the title of this book?', 'answer': 'Broken Columns: Two Roman Epic Fragments: \"The Achilleid\" of Publius Papinius Statius and \"The Rape of Proserpine\" of Claudius Claudianus', 'chunk_belong': 'chunk2.zip'}, {'image_path': 'OCR-VQA/images/896087298.jpg', 'question': 'Who wrote this book?', 'answer': 'Jael Silliman', 'chunk_belong': 'chunk1.zip'}, {'image_path': 'OCR-VQA/images/778802272.jpg', 'question': 'Is this book related to Cookbooks, Food & Wine?', 'answer': 'Yes', 'chunk_belong': 'chunk1.zip'}, {'image_path': 'OCR-VQA/images/1426318138.jpg', 'question': 'What type of book is this?', 'answer': \"Children's Books\", 'chunk_belong': 'chunk3.zip'}, {'image_path': 'OCR-VQA/images/B010IB0EBK.jpg', 'question': 'Is this book related to Medical Books?', 'answer': 'No', 'chunk_belong': 'chunk2.zip'}, {'image_path': 'OCR-VQA/images/123756685.jpg', 'question': 'What is the title of this book?', 'answer': 'Treatment of Eating Disorders: Bridging the research-practice gap', 'chunk_belong': 'chunk2.zip'}, {'image_path': 'OCR-VQA/images/582647053.jpg', 'question': 'Is this book related to Science & Math?', 'answer': 'Yes', 'chunk_belong': 'chunk2.zip'}, {'image_path': 'OCR-VQA/images/978508432.jpg', 'question': 'Who wrote this book?', 'answer': 'Shiho Torii', 'chunk_belong': 'chunk2.zip'}, {'image_path': 'OCR-VQA/images/B00N4IRCTM.jpg', 'question': \"Is this book related to Children's Books?\", 'answer': 'No', 'chunk_belong': 'chunk3.zip'}, {'image_path': 'OCR-VQA/images/1464106037.jpg', 'question': 'Is this a pharmaceutical book?', 'answer': 'Yes', 'chunk_belong': 'chunk1.zip'}, {'image_path': 'OCR-VQA/images/385347014.jpg', 'question': 'Is this book related to Humor & Entertainment?', 'answer': 'Yes', 'chunk_belong': 'chunk2.zip'}, {'image_path': 'OCR-VQA/images/071486966X.jpg', 'question': 'What is the genre of this book?', 'answer': 'Arts & Photography', 'chunk_belong': 'chunk2.zip'}, {'image_path': 'OCR-VQA/images/312554230.jpg', 'question': 'Who wrote this book?', 'answer': 'Robert Rave', 'chunk_belong': 'chunk3.zip'}, {'image_path': 'OCR-VQA/images/1446035336.jpg', 'question': 'Is this a journey related book?', 'answer': 'Yes', 'chunk_belong': 'chunk1.zip'}, {'image_path': 'OCR-VQA/images/1882770714.jpg', 'question': 'Is this a crafts or hobbies related book?', 'answer': 'Yes', 'chunk_belong': 'chunk3.zip'}, {'image_path': 'OCR-VQA/images/1610670442.jpg', 'question': 'Is this a youngster related book?', 'answer': 'Yes', 'chunk_belong': 'chunk1.zip'}, {'image_path': 'OCR-VQA/images/314101616.jpg', 'question': 'Is this book related to Law?', 'answer': 'No', 'chunk_belong': 'chunk1.zip'}, {'image_path': 'OCR-VQA/images/132944677.jpg', 'question': 'Is this book related to Education & Teaching?', 'answer': 'Yes', 'chunk_belong': 'chunk1.zip'}, {'image_path': 'OCR-VQA/images/836199049.jpg', 'question': 'Is this book related to Cookbooks, Food & Wine?', 'answer': 'No', 'chunk_belong': 'chunk2.zip'}, {'image_path': 'OCR-VQA/images/415879280.jpg', 'question': 'What is the genre of this book?', 'answer': 'Medical Books', 'chunk_belong': 'chunk3.zip'}, {'image_path': 'OCR-VQA/images/921991460.jpg', 'question': 'Is this book related to Medical Books?', 'answer': 'No', 'chunk_belong': 'chunk3.zip'}, {'image_path': 'OCR-VQA/images/700614168.jpg', 'question': 'Who is the author of this book?', 'answer': 'Peter S. Kindsvatter', 'chunk_belong': 'chunk2.zip'}, {'image_path': 'OCR-VQA/images/1890001414.jpg', 'question': 'What is the title of this book?', 'answer': 'Meta-States:MAstering the High Levels of Your Mind, Third Edition', 'chunk_belong': 'chunk1.zip'}, {'image_path': 'OCR-VQA/images/162482109X.jpg', 'question': 'Who wrote this book?', 'answer': 'Rob E. Boley', 'chunk_belong': 'chunk3.zip'}, {'image_path': 'OCR-VQA/images/78024099.jpg', 'question': 'Is this a religious book?', 'answer': 'No', 'chunk_belong': 'chunk2.zip'}, {'image_path': 'OCR-VQA/images/1564144461.jpg', 'question': 'What is the title of this book?', 'answer': 'Beyond Business Casual: What to Wear to Work If You Want to Get Ahead', 'chunk_belong': 'chunk3.zip'}, {'image_path': 'OCR-VQA/images/425263878.jpg', 'question': 'Who wrote this book?', 'answer': 'Eileen Wilks', 'chunk_belong': 'chunk2.zip'}, {'image_path': 'OCR-VQA/images/192893025.jpg', 'question': 'Is this book related to Parenting & Relationships?', 'answer': 'No', 'chunk_belong': 'chunk2.zip'}, {'image_path': 'OCR-VQA/images/385386176.jpg', 'question': 'What is the title of this book?', 'answer': 'Hilo Book 1: The Boy Who Crashed to Earth', 'chunk_belong': 'chunk1.zip'}, {'image_path': 'OCR-VQA/images/1400095123.jpg', 'question': 'Is this book related to Biographies & Memoirs?', 'answer': 'Yes', 'chunk_belong': 'chunk3.zip'}, {'image_path': 'OCR-VQA/images/081224639X.jpg', 'question': 'What is the genre of this book?', 'answer': 'Religion & Spirituality', 'chunk_belong': 'chunk3.zip'}, {'image_path': 'OCR-VQA/images/1631061593.jpg', 'question': 'Is this book related to Computers & Technology?', 'answer': 'No', 'chunk_belong': 'chunk1.zip'}, {'image_path': 'OCR-VQA/images/087579243X.jpg', 'question': 'Who wrote this book?', 'answer': 'Joseph F. Smith', 'chunk_belong': 'chunk3.zip'}, {'image_path': 'OCR-VQA/images/1442612061.jpg', 'question': 'Is this a judicial book?', 'answer': 'Yes', 'chunk_belong': 'chunk2.zip'}, {'image_path': 'OCR-VQA/images/71822925.jpg', 'question': 'Who wrote this book?', 'answer': 'Suzanne Burns', 'chunk_belong': 'chunk1.zip'}, {'image_path': 'OCR-VQA/images/067988629X.jpg', 'question': \"Is this book related to Children's Books?\", 'answer': 'Yes', 'chunk_belong': 'chunk1.zip'}, {'image_path': 'OCR-VQA/images/073550864X.jpg', 'question': 'Is this a judicial book?', 'answer': 'Yes', 'chunk_belong': 'chunk2.zip'}, {'image_path': 'OCR-VQA/images/520203372.jpg', 'question': 'What is the title of this book?', 'answer': 'The Caregiving Dilemma: Work in an American Nursing Home', 'chunk_belong': 'chunk3.zip'}, {'image_path': 'OCR-VQA/images/1433811960.jpg', 'question': 'Who is the author of this book?', 'answer': 'Jeanne Kraus', 'chunk_belong': 'chunk2.zip'}, {'image_path': 'OCR-VQA/images/1935302523.jpg', 'question': 'Is this a judicial book?', 'answer': 'No', 'chunk_belong': 'chunk1.zip'}, {'image_path': 'OCR-VQA/images/1575062097.jpg', 'question': 'Is this book related to Engineering & Transportation?', 'answer': 'No', 'chunk_belong': 'chunk1.zip'}, {'image_path': 'OCR-VQA/images/470248459.jpg', 'question': 'Is this a digital technology book?', 'answer': 'No', 'chunk_belong': 'chunk3.zip'}, {'image_path': 'OCR-VQA/images/520246675.jpg', 'question': 'Who is the author of this book?', 'answer': 'William Deverell', 'chunk_belong': 'chunk2.zip'}, {'image_path': 'OCR-VQA/images/1101874864.jpg', 'question': 'What is the title of this book?', 'answer': 'Vegetarian India: A Journey Through the Best of Indian Home Cooking', 'chunk_belong': 'chunk2.zip'}, {'image_path': 'OCR-VQA/images/1285458990.jpg', 'question': 'Is this a judicial book?', 'answer': 'Yes', 'chunk_belong': 'chunk2.zip'}, {'image_path': 'OCR-VQA/images/143190504.jpg', 'question': 'What is the title of this book?', 'answer': 'Brown Eggs and Jam Jars: Family Recipes from the Kitchen of Simple Bites', 'chunk_belong': 'chunk1.zip'}, {'image_path': 'OCR-VQA/images/486402975.jpg', 'question': 'What type of book is this?', 'answer': 'Crafts, Hobbies & Home', 'chunk_belong': 'chunk3.zip'}, {'image_path': 'OCR-VQA/images/1502533413.jpg', 'question': 'Who wrote this book?', 'answer': 'Jean Ecrivain', 'chunk_belong': 'chunk3.zip'}, {'image_path': 'OCR-VQA/images/113744200X.jpg', 'question': 'Is this book related to Arts & Photography?', 'answer': 'No', 'chunk_belong': 'chunk3.zip'}, {'image_path': 'OCR-VQA/images/045146365X.jpg', 'question': 'Is this a sci-fi book?', 'answer': 'Yes', 'chunk_belong': 'chunk3.zip'}, {'image_path': 'OCR-VQA/images/395549787.jpg', 'question': 'What is the title of this book?', 'answer': 'Bold Journey: West with Lewis and Clark', 'chunk_belong': 'chunk2.zip'}, {'image_path': 'OCR-VQA/images/1886732116.jpg', 'question': 'Is this book related to Religion & Spirituality?', 'answer': 'No', 'chunk_belong': 'chunk3.zip'}, {'image_path': 'OCR-VQA/images/1620401061.jpg', 'question': 'What is the title of this book?', 'answer': 'Extinct Boids', 'chunk_belong': 'chunk2.zip'}, {'image_path': 'OCR-VQA/images/1420501410.jpg', 'question': 'Is this book related to Engineering & Transportation?', 'answer': 'No', 'chunk_belong': 'chunk1.zip'}, {'image_path': 'OCR-VQA/images/671693573.jpg', 'question': 'What type of book is this?', 'answer': 'Crafts, Hobbies & Home', 'chunk_belong': 'chunk3.zip'}, {'image_path': 'OCR-VQA/images/1609710045.jpg', 'question': 'What type of book is this?', 'answer': 'Test Preparation', 'chunk_belong': 'chunk2.zip'}, {'image_path': 'OCR-VQA/images/531158365.jpg', 'question': 'Who is the author of this book?', 'answer': 'Leslie Gourse', 'chunk_belong': 'chunk3.zip'}, {'image_path': 'OCR-VQA/images/1907099743.jpg', 'question': 'Who is the author of this book?', 'answer': 'Michelin Travel & Lifestyle', 'chunk_belong': 'chunk1.zip'}, {'image_path': 'OCR-VQA/images/303292431.jpg', 'question': 'Who is the author of this book?', 'answer': 'ExpressMap', 'chunk_belong': 'chunk2.zip'}, {'image_path': 'OCR-VQA/images/742570258.jpg', 'question': 'Who wrote this book?', 'answer': 'Barry Hankins', 'chunk_belong': 'chunk3.zip'}, {'image_path': 'OCR-VQA/images/976159171.jpg', 'question': 'Who wrote this book?', 'answer': 'Victoria Ring', 'chunk_belong': 'chunk1.zip'}, {'image_path': 'OCR-VQA/images/1580170730.jpg', 'question': 'Is this a financial book?', 'answer': 'No', 'chunk_belong': 'chunk2.zip'}, {'image_path': 'OCR-VQA/images/890543763.jpg', 'question': 'What is the title of this book?', 'answer': 'Compendium of Hop Diseases and Pests', 'chunk_belong': 'chunk3.zip'}, {'image_path': 'OCR-VQA/images/B009LO2HPC.jpg', 'question': 'Is this book related to Teen & Young Adult?', 'answer': 'Yes', 'chunk_belong': 'chunk3.zip'}, {'image_path': 'OCR-VQA/images/1401942407.jpg', 'question': 'What type of book is this?', 'answer': 'Biographies & Memoirs', 'chunk_belong': 'chunk1.zip'}, {'image_path': 'OCR-VQA/images/744016738.jpg', 'question': 'What is the title of this book?', 'answer': \"Xenoblade Chronicles X Collector's Edition Guide\", 'chunk_belong': 'chunk3.zip'}, {'image_path': 'OCR-VQA/images/62268856.jpg', 'question': 'What is the title of this book?', 'answer': 'Surviving Schizophrenia, 6th Edition: A Family Manual', 'chunk_belong': 'chunk1.zip'}, {'image_path': 'OCR-VQA/images/1576583856.jpg', 'question': 'What type of book is this?', 'answer': \"Children's Books\", 'chunk_belong': 'chunk2.zip'}]\n"
     ]
    }
   ],
   "source": [
    "with open(os.path.join(\"/root/data/mutimodel_dataset/data_split/OCR-VQA/json/data.json\"), \"w\") as f:\n",
    "    f.write(json.dumps(json_data))\n",
    "with open(os.path.join(json_root_path), \"r\") as f:\n",
    "    file_content = f.read()\n",
    "json_data = json.loads(file_content)\n",
    "print(json_data[:100])\n"
   ]
  }
 ],
 "metadata": {
  "kernelspec": {
   "display_name": "lmeye",
   "language": "python",
   "name": "python3"
  },
  "language_info": {
   "codemirror_mode": {
    "name": "ipython",
    "version": 3
   },
   "file_extension": ".py",
   "mimetype": "text/x-python",
   "name": "python",
   "nbconvert_exporter": "python",
   "pygments_lexer": "ipython3",
   "version": "3.9.17"
  },
  "orig_nbformat": 4
 },
 "nbformat": 4,
 "nbformat_minor": 2
}
